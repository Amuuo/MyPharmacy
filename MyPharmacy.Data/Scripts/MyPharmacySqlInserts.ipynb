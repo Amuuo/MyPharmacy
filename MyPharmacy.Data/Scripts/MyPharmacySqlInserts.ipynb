{
    "metadata": {
        "kernelspec": {
            "name": "SQL",
            "display_name": "SQL",
            "language": "sql"
        },
        "language_info": {
            "name": "sql",
            "version": ""
        }
    },
    "nbformat_minor": 2,
    "nbformat": 4,
    "cells": [
        {
            "cell_type": "markdown",
            "source": [
                "Insert Pharmacists script:"
            ],
            "metadata": {
                "azdata_cell_guid": "fb447597-7be3-444f-b068-144c6e4a1284"
            },
            "attachments": {}
        },
        {
            "cell_type": "code",
            "source": [
                "INSERT INTO pharmacy (name, address, city, state, zip, prescriptionsFilled, createdDate, updatedDate)\r\n",
                "VALUES\r\n",
                "    ('MediCare Pharmacy', '890 Cedar Lane', 'Townsville', 'OH', '56789', 400, '2023-08-14', '2023-08-14'),\r\n",
                "    ('LifeSaver Drugs', '123 Oakwood Avenue', 'Metroville', 'MI', '23456', 550, '2023-08-14', '2023-08-14'),\r\n",
                "    ('SwiftRx Pharmacy', '456 Birch Street', 'Suburbia', 'PA', '67890', 700, '2023-08-14', '2023-08-14'),\r\n",
                "    ('FamilyCare Chemist', '789 Willow Road', 'Ruraltown', 'GA', '12345', 350, '2023-08-14', '2023-08-14'),\r\n",
                "    ('EliteHealth Pharmacy', '345 Cedar Avenue', 'Hamletville', 'CA', '54321', 800, '2023-08-14', '2023-08-14'),\r\n",
                "    ('CommunityRx Drugs', '678 Elm Street', 'Smalltown', 'TX', '98765', 600, '2023-08-14', '2023-08-14'),\r\n",
                "    ('Sunrise Pharmacy', '901 Pine Avenue', 'Cityville', 'NY', '34567', 450, '2023-08-14', '2023-08-14'),\r\n",
                "    ('WellMed Chemist', '234 Maple Lane', 'Villagetown', 'IL', '65432', 550, '2023-08-14', '2023-08-14'),\r\n",
                "    ('TotalCare Pharmacy', '567 Oak Road', 'Countryside', 'FL', '43210', 700, '2023-08-14', '2023-08-14'),\r\n",
                "    ('A1 Health Pharmacy', '123 Elm Lane', 'Hometown', 'AZ', '76543', 300, '2023-08-14', '2023-08-14'),\r\n",
                "    ('PrimeScript Drugs', '456 Maple Street', 'Suburbia', 'NV', '23456', 800, '2023-08-14', '2023-08-14'),\r\n",
                "    ('MetroHealth Chemist', '789 Cedar Avenue', 'Metroville', 'NJ', '87654', 650, '2023-08-14', '2023-08-14'),\r\n",
                "    ('CityPharma Rx', '345 Birch Road', 'Ruraltown', 'WA', '54321', 500, '2023-08-14', '2023-08-14'),\r\n",
                "    ('Sunset Pharmacy', '901 Oakwood Avenue', 'Smalltown', 'OK', '12345', 400, '2023-08-14', '2023-08-14'),\r\n",
                "    ('Pioneer Drugs', '234 Pine Street', 'Hometown', 'LA', '98765', 550, '2023-08-14', '2023-08-14'),\r\n",
                "    ('RapidRelief Chemist', '567 Cedar Lane', 'Townsville', 'MS', '65432', 600, '2023-08-14', '2023-08-14'),\r\n",
                "    ('HealthWise Pharmacy', '890 Willow Avenue', 'Cityville', 'CT', '43210', 750, '2023-08-14', '2023-08-14'),\r\n",
                "    ('CareFirst Pharmacy', '123 Oak Lane', 'Villagetown', 'KY', '87654', 450, '2023-08-14', '2023-08-14'),\r\n",
                "    ('VitaScript Drugs', '456 Elm Road', 'Countryside', 'CO', '76543', 700, '2023-08-14', '2023-08-14'),\r\n",
                "    ('HopeMed Chemist', '789 Cedar Lane', 'Hamletsville', 'OR', '23456', 550, '2023-08-14', '2023-08-14'),\r\n",
                "    ('HealthCare Pharmacy', '123 Main Street', 'Anytown', 'CA', '12345', 500, '2023-08-13', '2023-08-13'),\r\n",
                "    ('QuickMed Pharmacy', '456 Elm Avenue', 'Cityville', 'NY', '54321', 750, '2023-08-13', '2023-08-13'),\r\n",
                "    ('CarePlus Drugstore', '789 Oak Lane', 'Villagetown', 'TX', '67890', 300, '2023-08-13', '2023-08-13'),\r\n",
                "    ('RxRelief Pharmacy', '234 Maple Road', 'Hamletsville', 'IL', '45678', 600, '2023-08-13', '2023-08-13'),\r\n",
                "    ('WellScript Chemist', '567 Pine Street', 'Countryside', 'FL', '34567', 450, '2023-08-13', '2023-08-13');"
            ],
            "metadata": {
                "azdata_cell_guid": "c4f80296-fec9-4c9e-a78a-d95753a323ca",
                "language": "sql"
            },
            "outputs": [
                {
                    "output_type": "display_data",
                    "data": {
                        "text/html": "(25 rows affected)"
                    },
                    "metadata": {}
                },
                {
                    "output_type": "display_data",
                    "data": {
                        "text/html": "Total execution time: 00:00:00.004"
                    },
                    "metadata": {}
                }
            ],
            "execution_count": 7
        },
        {
            "cell_type": "code",
            "source": [
                "INSERT INTO [dbo].[Pharmacist] ([FirstName], [LastName], [Age], [HireDate], [PrimaryRx])\r\n",
                "VALUES\r\n",
                "('Alice', 'Johnson', 35, '2021-05-01', 'Ibuprofen'),\r\n",
                "('Bob', 'Smith', 40, '2018-10-10', 'Paracetamol'),\r\n",
                "('Charlie', 'Brown', 29, '2017-02-15', 'Aspirin'),\r\n",
                "('David', 'Lee', 45, '2020-03-30', 'Metformin'),\r\n",
                "('Emily', 'Davis', 32, '2019-04-23', 'Lisinopril'),\r\n",
                "('Frank', 'Taylor', 39, '2021-06-18', 'Atorvastatin'),\r\n",
                "('Grace', 'Wilson', 28, '2018-07-09', 'Simvastatin'),\r\n",
                "('Hannah', 'Thomas', 31, '2019-08-12', 'Levothyroxine'),\r\n",
                "('Isaac', 'White', 34, '2017-09-05', 'Salbutamol'),\r\n",
                "('Jack', 'Harris', 36, '2020-10-20', 'Warfarin'),\r\n",
                "('Sarah', 'Miller', 33, '2019-12-05', 'Omeprazole'),\r\n",
                "('Michael', 'Anderson', 38, '2022-01-15', 'Metoprolol'),\r\n",
                "('Olivia', 'Martinez', 29, '2018-08-25', 'Amlodipine'),\r\n",
                "('William', 'Garcia', 41, '2020-06-10', 'Hydrochlorothiazide'),\r\n",
                "('Sophia', 'Brown', 30, '2017-03-14', 'Escitalopram'),\r\n",
                "('Jacob', 'Davis', 35, '2019-10-28', 'Losartan'),\r\n",
                "('Emma', 'Wilson', 27, '2021-04-02', 'Tadalafil'),\r\n",
                "('James', 'Taylor', 42, '2018-09-19', 'Metronidazole'),\r\n",
                "('Ava', 'Johnson', 31, '2022-03-08', 'Doxycycline'),\r\n",
                "('Liam', 'Harris', 37, '2017-11-30', 'Fluoxetine'),\r\n",
                "('Mia', 'Lee', 28, '2019-05-12', 'Citalopram'),\r\n",
                "('Benjamin', 'Smith', 39, '2020-08-03', 'Ranitidine'),\r\n",
                "('Ella', 'Clark', 33, '2018-02-17', 'Albuterol'),\r\n",
                "('Lucas', 'Thomas', 36, '2017-06-22', 'Gabapentin'),\r\n",
                "('Avery', 'Hall', 29, '2021-09-14', 'Prednisone'),\r\n",
                "('Jackson', 'Walker', 34, '2019-07-07', 'Amoxicillin'),\r\n",
                "('Scarlett', 'Lopez', 40, '2018-04-11', 'Metoclopramide'),\r\n",
                "('Daniel', 'Perez', 32, '2020-11-25', 'Fluconazole'),\r\n",
                "('Madison', 'Lewis', 37, '2017-01-04', 'Naproxen'),\r\n",
                "('Logan', 'Gonzalez', 30, '2019-03-19', 'Furosemide');\r\n",
                ""
            ],
            "metadata": {
                "azdata_cell_guid": "1284ed5c-51d6-462f-b99f-095c2c5d0cf4",
                "language": "sql"
            },
            "outputs": [
                {
                    "output_type": "display_data",
                    "data": {
                        "text/html": "(10 rows affected)"
                    },
                    "metadata": {}
                },
                {
                    "output_type": "display_data",
                    "data": {
                        "text/html": "Total execution time: 00:00:00.003"
                    },
                    "metadata": {}
                }
            ],
            "execution_count": 8
        },
        {
            "cell_type": "code",
            "source": [
                "INSERT INTO [dbo].[delivery] ([WarehouseId], [PharmacyId], [DrugName], [UnitCount], [UnitPrice], [DeliveryDate])\r\n",
                "VALUES\r\n",
                "(1, 1, 'Ibuprofen', 100, 5.99, '2023-01-01'),\r\n",
                "(2, 1, 'Paracetamol', 200, 3.49, '2023-01-02'),\r\n",
                "(1, 1, 'Aspirin', 150, 4.75, '2023-01-03'),\r\n",
                "(2, 1, 'Metformin', 120, 2.99, '2023-01-04'),\r\n",
                "(3, 2, 'Lisinopril', 90, 6.70, '2023-01-05'),\r\n",
                "(1, 2, 'Atorvastatin', 110, 8.50, '2023-01-06'),\r\n",
                "(2, 2, 'Simvastatin', 80, 7.25, '2023-01-07'),\r\n",
                "(3, 2, 'Levothyroxine', 70, 5.50, '2023-01-08'),\r\n",
                "(1, 3, 'Salbutamol', 60, 3.80, '2023-01-09'),\r\n",
                "(2, 3, 'Warfarin', 50, 9.99, '2023-01-10'),\r\n",
                "(3, 3, 'Ibuprofen', 40, 5.99, '2023-01-11'),\r\n",
                "(1, 3, 'Paracetamol', 30, 3.49, '2023-01-12'),\r\n",
                "(2, 4, 'Aspirin', 20, 4.75, '2023-01-13'),\r\n",
                "(3, 4, 'Metformin', 35, 2.99, '2023-01-14'),\r\n",
                "(1, 4, 'Lisinopril', 45, 6.70, '2023-01-15'),\r\n",
                "(2, 4, 'Atorvastatin', 55, 8.50, '2023-01-16'),\r\n",
                "(3, 5, 'Simvastatin', 65, 7.25, '2023-01-17'),\r\n",
                "(1, 5, 'Levothyroxine', 75, 5.50, '2023-01-18'),\r\n",
                "(2, 5, 'Salbutamol', 85, 3.80, '2023-01-19'),\r\n",
                "(3, 5, 'Warfarin', 95, 9.99, '2023-01-20');"
            ],
            "metadata": {
                "azdata_cell_guid": "21283e21-dded-47b9-bb98-b4510f61884e",
                "language": "sql"
            },
            "outputs": [
                {
                    "output_type": "display_data",
                    "data": {
                        "text/html": "(20 rows affected)"
                    },
                    "metadata": {}
                },
                {
                    "output_type": "display_data",
                    "data": {
                        "text/html": "Total execution time: 00:00:00.008"
                    },
                    "metadata": {}
                }
            ],
            "execution_count": 5
        },
        {
            "cell_type": "code",
            "source": [
                "INSERT INTO delivery (WarehouseId, PharmacyId, DrugName, UnitCount, UnitPrice, DeliveryDate)\r\n",
                "VALUES\r\n",
                "(FLOOR(RAND() * 9 + 1), FLOOR(RAND() * 21 + 1), 'Amoxicillin', FLOOR(RAND() * 150 + 10), 5.49, DATEADD(DAY, 1, '2023-01-20')),\r\n",
                "(FLOOR(RAND() * 9 + 1), FLOOR(RAND() * 21 + 1), 'Ciprofloxacin', FLOOR(RAND() * 150 + 10), 4.89, DATEADD(DAY, 2, '2023-01-20')),\r\n",
                "(FLOOR(RAND() * 9 + 1), FLOOR(RAND() * 21 + 1), 'Doxycycline', FLOOR(RAND() * 150 + 10), 5.29, DATEADD(DAY, 3, '2023-01-20')),\r\n",
                "(FLOOR(RAND() * 9 + 1), FLOOR(RAND() * 21 + 1), 'Clindamycin', FLOOR(RAND() * 150 + 10), 6.20, DATEADD(DAY, 4, '2023-01-20')),\r\n",
                "(FLOOR(RAND() * 9 + 1), FLOOR(RAND() * 21 + 1), 'Metronidazole', FLOOR(RAND() * 150 + 10), 4.95, DATEADD(DAY, 5, '2023-01-20')),\r\n",
                "(FLOOR(RAND() * 9 + 1), FLOOR(RAND() * 21 + 1), 'Azithromycin', FLOOR(RAND() * 150 + 10), 6.89, DATEADD(DAY, 6, '2023-01-20')),\r\n",
                "(FLOOR(RAND() * 9 + 1), FLOOR(RAND() * 21 + 1), 'Penicillin', FLOOR(RAND() * 150 + 10), 5.79, DATEADD(DAY, 7, '2023-01-20')),\r\n",
                "(FLOOR(RAND() * 9 + 1), FLOOR(RAND() * 21 + 1), 'Tetracycline', FLOOR(RAND() * 150 + 10), 5.50, DATEADD(DAY, 8, '2023-01-20')),\r\n",
                "(FLOOR(RAND() * 9 + 1), FLOOR(RAND() * 21 + 1), 'Vancomycin', FLOOR(RAND() * 150 + 10), 7.45, DATEADD(DAY, 9, '2023-01-20')),\r\n",
                "(FLOOR(RAND() * 9 + 1), FLOOR(RAND() * 21 + 1), 'Gentamicin', FLOOR(RAND() * 150 + 10), 5.40, DATEADD(DAY, 10, '2023-01-20')),\r\n",
                "(FLOOR(RAND() * 9 + 1), FLOOR(RAND() * 21 + 1), 'Erythromycin', FLOOR(RAND() * 150 + 10), 6.70, DATEADD(DAY, 39, '2023-01-20')),\r\n",
                "(FLOOR(RAND() * 9 + 1), FLOOR(RAND() * 21 + 1), 'Rifampin', FLOOR(RAND() * 150 + 10), 7.15, DATEADD(DAY, 40, '2023-01-20')),\r\n",
                "(FLOOR(RAND() * 9 + 1), FLOOR(RAND() * 21 + 1), 'Levothyroxine', FLOOR(RAND() * 150 + 10), 6.99, DATEADD(DAY, 11, '2023-02-20')),\r\n",
                "(FLOOR(RAND() * 9 + 1), FLOOR(RAND() * 21 + 1), 'Prednisone', FLOOR(RAND() * 150 + 10), 3.75, DATEADD(DAY, 12, '2023-02-20')),\r\n",
                "(FLOOR(RAND() * 9 + 1), FLOOR(RAND() * 21 + 1), 'Lisinopril', FLOOR(RAND() * 150 + 10), 4.25, DATEADD(DAY, 13, '2023-02-20')),\r\n",
                "(FLOOR(RAND() * 9 + 1), FLOOR(RAND() * 21 + 1), 'Atorvastatin', FLOOR(RAND() * 150 + 10), 8.20, DATEADD(DAY, 14, '2023-02-20')),\r\n",
                "(FLOOR(RAND() * 9 + 1), FLOOR(RAND() * 21 + 1), 'Metformin', FLOOR(RAND() * 150 + 10), 2.99, DATEADD(DAY, 15, '2023-02-20')),\r\n",
                "(FLOOR(RAND() * 9 + 1), FLOOR(RAND() * 21 + 1), 'Sertraline', FLOOR(RAND() * 150 + 10), 7.80, DATEADD(DAY, 16, '2023-02-20')),\r\n",
                "(FLOOR(RAND() * 9 + 1), FLOOR(RAND() * 21 + 1), 'Omeprazole', FLOOR(RAND() * 150 + 10), 5.10, DATEADD(DAY, 17, '2023-02-20')),\r\n",
                "(FLOOR(RAND() * 9 + 1), FLOOR(RAND() * 21 + 1), 'Losartan', FLOOR(RAND() * 150 + 10), 4.60, DATEADD(DAY, 18, '2023-02-20')),\r\n",
                "(FLOOR(RAND() * 9 + 1), FLOOR(RAND() * 21 + 1), 'Simvastatin', FLOOR(RAND() * 150 + 10), 6.75, DATEADD(DAY, 19, '2023-02-20')),\r\n",
                "(FLOOR(RAND() * 9 + 1), FLOOR(RAND() * 21 + 1), 'Amlodipine', FLOOR(RAND() * 150 + 10), 3.90, DATEADD(DAY, 20, '2023-02-20')),\r\n",
                "(FLOOR(RAND() * 9 + 1), FLOOR(RAND() * 21 + 1), 'Gabapentin', FLOOR(RAND() * 150 + 10), 5.50, DATEADD(DAY, 21, '2023-02-20')),\r\n",
                "(FLOOR(RAND() * 9 + 1), FLOOR(RAND() * 21 + 1), 'Metoprolol', FLOOR(RAND() * 150 + 10), 4.35, DATEADD(DAY, 22, '2023-02-20')),\r\n",
                "(FLOOR(RAND() * 9 + 1), FLOOR(RAND() * 21 + 1), 'Hydrochlorothiazide', FLOOR(RAND() * 150 + 10), 3.25, DATEADD(DAY, 23, '2023-02-20')),\r\n",
                "(FLOOR(RAND() * 9 + 1), FLOOR(RAND() * 21 + 1), 'Escitalopram', FLOOR(RAND() * 150 + 10), 6.15, DATEADD(DAY, 24, '2023-02-20')),\r\n",
                "(FLOOR(RAND() * 9 + 1), FLOOR(RAND() * 21 + 1), 'Warfarin', FLOOR(RAND() * 150 + 10), 2.80, DATEADD(DAY, 25, '2023-02-20')),\r\n",
                "(FLOOR(RAND() * 9 + 1), FLOOR(RAND() * 21 + 1), 'Trazodone', FLOOR(RAND() * 150 + 10), 7.20, DATEADD(DAY, 26, '2023-02-20')),\r\n",
                "(FLOOR(RAND() * 9 + 1), FLOOR(RAND() * 21 + 1), 'Fluoxetine', FLOOR(RAND() * 150 + 10), 5.60, DATEADD(DAY, 27, '2023-02-20')),\r\n",
                "(FLOOR(RAND() * 9 + 1), FLOOR(RAND() * 21 + 1), 'Citalopram', FLOOR(RAND() * 150 + 10), 4.75, DATEADD(DAY, 28, '2023-02-20')),\r\n",
                "(FLOOR(RAND() * 9 + 1), FLOOR(RAND() * 21 + 1), 'Alprazolam', FLOOR(RAND() * 150 + 10), 8.10, DATEADD(DAY, 29, '2023-02-20')),\r\n",
                "(FLOOR(RAND() * 9 + 1), FLOOR(RAND() * 21 + 1), 'Furosemide', FLOOR(RAND() * 150 + 10), 3.40, DATEADD(DAY, 30, '2023-02-20'));"
            ],
            "metadata": {
                "azdata_cell_guid": "e72f58f3-5317-41d4-bdde-46dbe6ce1040",
                "language": "sql",
                "tags": []
            },
            "outputs": [
                {
                    "output_type": "display_data",
                    "data": {
                        "text/html": "(12 rows affected)"
                    },
                    "metadata": {}
                },
                {
                    "output_type": "display_data",
                    "data": {
                        "text/html": "Total execution time: 00:00:00.006"
                    },
                    "metadata": {}
                }
            ],
            "execution_count": 11
        },
        {
            "cell_type": "code",
            "source": [
                "INSERT INTO [dbo].[warehouse] ([name], [address], [city], [state], [zip])\r\n",
                "VALUES\r\n",
                "('Warehouse 1', '123 Main St', 'Springfield', 'IL', '62701'),\r\n",
                "('Warehouse 2', '456 Secondary St', 'Shelbyville', 'IL', '62565'),\r\n",
                "('Warehouse 3', '789 Tertiary Ave', 'Ogdenville', 'IL', '62059'),\r\n",
                "('Central Storage', '101 Elm St', 'Rivertown', 'IL', '62815'),\r\n",
                "('Valley Depot', '202 Oak Ave', 'Maplewood', 'IL', '62925'),\r\n",
                "('Sunset Warehousing', '303 Pine Rd', 'Greenville', 'IL', '62235'),\r\n",
                "('Hillside Storage', '404 Birch Blvd', 'Countryside', 'IL', '62445'),\r\n",
                "('Maple Grove Warehouses', '505 Cedar Dr', 'Smallville', 'IL', '62355'),\r\n",
                "('Pine Ridge Storage', '606 Spruce Ln', 'Hometown', 'IL', '62145'),\r\n",
                "('MetroWare', '707 Willow Cir', 'Metroville', 'IL', '62575'),\r\n",
                "('City Logistics', '808 Juniper Ave', 'Cityville', 'IL', '62685'),\r\n",
                "('Village Storage Solutions', '909 Magnolia Rd', 'Villagetown', 'IL', '62295'),\r\n",
                "('Rural Warehouse Co.', '111 Acacia St', 'Suburbia', 'IL', '62805'),\r\n",
                "('Countryside Storage', '222 Birchwood Dr', 'Ruraltown', 'IL', '62415'),\r\n",
                "('Township Warehouses', '333 Cedarwood Ave', 'Townsville', 'IL', '62325'),\r\n",
                "('Valley Storage Center', '444 Maplehill Rd', 'Springdale', 'IL', '62735'),\r\n",
                "('Greenwood Warehouses', '555 Oakridge Cir', 'Greenwood', 'IL', '62455'),\r\n",
                "('Hillside Depot', '666 Pinegrove Blvd', 'Hillside', 'IL', '62005');"
            ],
            "metadata": {
                "azdata_cell_guid": "c2e1e976-9836-4b4d-94fd-c5857c482eee",
                "language": "sql"
            },
            "outputs": [
                {
                    "output_type": "display_data",
                    "data": {
                        "text/html": "(18 rows affected)"
                    },
                    "metadata": {}
                },
                {
                    "output_type": "display_data",
                    "data": {
                        "text/html": "Total execution time: 00:00:00.003"
                    },
                    "metadata": {}
                }
            ],
            "execution_count": 10
        },
        {
            "cell_type": "code",
            "source": [
                "INSERT INTO delivery (WarehouseId, PharmacyId, DrugName, UnitCount, UnitPrice, DeliveryDate)\r\n",
                "VALUES\r\n",
                "(FLOOR(RAND() * 9 + 1), FLOOR(RAND() * 21 + 1), 'Levothyroxine', FLOOR(RAND() * 150 + 10), 6.99, DATEADD(DAY, 11, '2023-02-20')),\r\n",
                "(FLOOR(RAND() * 9 + 1), FLOOR(RAND() * 21 + 1), 'Prednisone', FLOOR(RAND() * 150 + 10), 3.75, DATEADD(DAY, 12, '2023-02-20')),\r\n",
                "(FLOOR(RAND() * 9 + 1), FLOOR(RAND() * 21 + 1), 'Lisinopril', FLOOR(RAND() * 150 + 10), 4.25, DATEADD(DAY, 13, '2023-02-20')),\r\n",
                "(FLOOR(RAND() * 9 + 1), FLOOR(RAND() * 21 + 1), 'Atorvastatin', FLOOR(RAND() * 150 + 10), 8.20, DATEADD(DAY, 14, '2023-02-20')),\r\n",
                "(FLOOR(RAND() * 9 + 1), FLOOR(RAND() * 21 + 1), 'Metformin', FLOOR(RAND() * 150 + 10), 2.99, DATEADD(DAY, 15, '2023-02-20')),\r\n",
                "(FLOOR(RAND() * 9 + 1), FLOOR(RAND() * 21 + 1), 'Sertraline', FLOOR(RAND() * 150 + 10), 7.80, DATEADD(DAY, 16, '2023-02-20')),\r\n",
                "(FLOOR(RAND() * 9 + 1), FLOOR(RAND() * 21 + 1), 'Omeprazole', FLOOR(RAND() * 150 + 10), 5.10, DATEADD(DAY, 17, '2023-02-20')),\r\n",
                "(FLOOR(RAND() * 9 + 1), FLOOR(RAND() * 21 + 1), 'Losartan', FLOOR(RAND() * 150 + 10), 4.60, DATEADD(DAY, 18, '2023-02-20')),\r\n",
                "(FLOOR(RAND() * 9 + 1), FLOOR(RAND() * 21 + 1), 'Simvastatin', FLOOR(RAND() * 150 + 10), 6.75, DATEADD(DAY, 19, '2023-02-20')),\r\n",
                "(FLOOR(RAND() * 9 + 1), FLOOR(RAND() * 21 + 1), 'Amlodipine', FLOOR(RAND() * 150 + 10), 3.90, DATEADD(DAY, 20, '2023-02-20')),\r\n",
                "(FLOOR(RAND() * 9 + 1), FLOOR(RAND() * 21 + 1), 'Gabapentin', FLOOR(RAND() * 150 + 10), 5.50, DATEADD(DAY, 21, '2023-02-20')),\r\n",
                "(FLOOR(RAND() * 9 + 1), FLOOR(RAND() * 21 + 1), 'Metoprolol', FLOOR(RAND() * 150 + 10), 4.35, DATEADD(DAY, 22, '2023-02-20')),\r\n",
                "(FLOOR(RAND() * 9 + 1), FLOOR(RAND() * 21 + 1), 'Hydrochlorothiazide', FLOOR(RAND() * 150 + 10), 3.25, DATEADD(DAY, 23, '2023-02-20')),\r\n",
                "(FLOOR(RAND() * 9 + 1), FLOOR(RAND() * 21 + 1), 'Escitalopram', FLOOR(RAND() * 150 + 10), 6.15, DATEADD(DAY, 24, '2023-02-20')),\r\n",
                "(FLOOR(RAND() * 9 + 1), FLOOR(RAND() * 21 + 1), 'Warfarin', FLOOR(RAND() * 150 + 10), 2.80, DATEADD(DAY, 25, '2023-02-20')),\r\n",
                "(FLOOR(RAND() * 9 + 1), FLOOR(RAND() * 21 + 1), 'Trazodone', FLOOR(RAND() * 150 + 10), 7.20, DATEADD(DAY, 26, '2023-02-20')),\r\n",
                "(FLOOR(RAND() * 9 + 1), FLOOR(RAND() * 21 + 1), 'Fluoxetine', FLOOR(RAND() * 150 + 10), 5.60, DATEADD(DAY, 27, '2023-02-20')),\r\n",
                "(FLOOR(RAND() * 9 + 1), FLOOR(RAND() * 21 + 1), 'Citalopram', FLOOR(RAND() * 150 + 10), 4.75, DATEADD(DAY, 28, '2023-02-20')),\r\n",
                "(FLOOR(RAND() * 9 + 1), FLOOR(RAND() * 21 + 1), 'Alprazolam', FLOOR(RAND() * 150 + 10), 8.10, DATEADD(DAY, 29, '2023-02-20')),\r\n",
                "(FLOOR(RAND() * 9 + 1), FLOOR(RAND() * 21 + 1), 'Furosemide', FLOOR(RAND() * 150 + 10), 3.40, DATEADD(DAY, 30, '2023-02-20'));\r\n",
                ""
            ],
            "metadata": {
                "azdata_cell_guid": "f85d51a5-98df-4aa4-adcf-cf91ff00359e",
                "language": "sql"
            },
            "outputs": [
                {
                    "output_type": "display_data",
                    "data": {
                        "text/html": "(20 rows affected)"
                    },
                    "metadata": {}
                },
                {
                    "output_type": "display_data",
                    "data": {
                        "text/html": "Total execution time: 00:00:00.007"
                    },
                    "metadata": {}
                }
            ],
            "execution_count": 13
        },
        {
            "cell_type": "code",
            "source": [
                "SELECT\n",
                "    c.customer_id,\n",
                "    SUM(o.amount) total_orders\n",
                "FROM \n",
                "    customer c\n",
                "JOIN order o ON o.customer_id = c.id\n",
                "GROUP BY \n",
                "    c.id\n",
                "ORDER BY \n",
                "    total_order DESC\n",
                "LIMIT 1 OFFSET 1;"
            ],
            "metadata": {
                "azdata_cell_guid": "35138def-fcae-41e7-b263-de42bbdc8773",
                "language": "sql"
            },
            "outputs": [],
            "execution_count": null
        }
    ]
}