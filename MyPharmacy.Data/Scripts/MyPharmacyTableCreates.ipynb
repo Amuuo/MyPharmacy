{
    "metadata": {
        "kernelspec": {
            "name": "SQL",
            "display_name": "SQL",
            "language": "sql"
        },
        "language_info": {
            "name": "sql",
            "version": ""
        }
    },
    "nbformat_minor": 2,
    "nbformat": 4,
    "cells": [
        {
            "cell_type": "code",
            "source": [
                "CREATE TABLE [dbo].[Pharmacy] (\r\n",
                "    [Id]                  INT            IDENTITY (1, 1) NOT NULL,\r\n",
                "    [Name]                NVARCHAR (MAX) NOT NULL,\r\n",
                "    [Address]             NVARCHAR (MAX) NULL,\r\n",
                "    [City]                NVARCHAR (MAX) NULL,\r\n",
                "    [State]               NVARCHAR (MAX) NULL,\r\n",
                "    [Zip]                 NVARCHAR (MAX) NULL,\r\n",
                "    [PrescriptionsFilled] INT            NULL,\r\n",
                "    [CreatedDate]         DATETIME2 (7)  NOT NULL,\r\n",
                "    [UpdatedDate]         DATETIME2 (7)  NULL,\r\n",
                "    CONSTRAINT [PK_Pharmacy] PRIMARY KEY CLUSTERED ([Id] ASC)\r\n",
                ");"
            ],
            "metadata": {
                "azdata_cell_guid": "b8b5b550-9815-487b-84aa-8d0c17cd0b77",
                "language": "sql"
            },
            "outputs": [],
            "execution_count": null
        },
        {
            "cell_type": "code",
            "source": [
                "CREATE TABLE [dbo].[Pharmacist] (\r\n",
                "    [Id]        INT            IDENTITY (1, 1) NOT NULL,\r\n",
                "    [FirstName] NVARCHAR (MAX) NULL,\r\n",
                "    [LastName]  NVARCHAR (MAX) NULL,\r\n",
                "    [Age]       INT            NULL,\r\n",
                "    [HireDate]  DATETIME2 (7)  NULL,\r\n",
                "    [PrimaryRx] NVARCHAR (MAX) NULL,\r\n",
                "    CONSTRAINT [PK_Pharmacist] PRIMARY KEY CLUSTERED ([Id] ASC)\r\n",
                ");"
            ],
            "metadata": {
                "azdata_cell_guid": "e4345d13-92d5-41ef-8b1a-9e1524b5feaa",
                "language": "sql",
                "tags": []
            },
            "outputs": [],
            "execution_count": null
        },
        {
            "cell_type": "code",
            "source": [
                "CREATE TABLE [dbo].[Warehouse] (\r\n",
                "    [Id]      INT            IDENTITY (1, 1) NOT NULL,\r\n",
                "    [Name]    NVARCHAR (MAX) NULL,\r\n",
                "    [Address] NVARCHAR (MAX) NULL,\r\n",
                "    [City]    NVARCHAR (MAX) NULL,\r\n",
                "    [State]   NVARCHAR (MAX) NULL,\r\n",
                "    [Zip]     NVARCHAR (MAX) NULL,\r\n",
                "    CONSTRAINT [PK_Warehouse] PRIMARY KEY CLUSTERED ([Id] ASC)\r\n",
                ");"
            ],
            "metadata": {
                "azdata_cell_guid": "3f7976da-6e85-4fd3-91f2-31cbe11f1358",
                "language": "sql"
            },
            "outputs": [],
            "execution_count": null
        },
        {
            "cell_type": "code",
            "source": [
                "CREATE TABLE [dbo].[Delivery] (\r\n",
                "    [Id]           INT             IDENTITY (1, 1) NOT NULL,\r\n",
                "    [WarehouseId]  INT             NOT NULL,\r\n",
                "    [PharmacyId]   INT             NOT NULL,\r\n",
                "    [DrugName]     NVARCHAR (MAX)  NOT NULL,\r\n",
                "    [UnitCount]    INT             NOT NULL,\r\n",
                "    [UnitPrice]    DECIMAL (18, 2) NOT NULL,\r\n",
                "    [TotalPrice]   AS              ([UnitCount]*[UnitPrice]),\r\n",
                "    [DeliveryDate] DATETIME2 (7)   NOT NULL,\r\n",
                "    CONSTRAINT [PK_Delivery] PRIMARY KEY CLUSTERED ([Id] ASC),\r\n",
                "    CONSTRAINT [FK_Delivery_Pharmacy_PharmacyId] FOREIGN KEY ([PharmacyId]) REFERENCES [dbo].[Pharmacy] ([Id]) ON DELETE CASCADE,\r\n",
                "    CONSTRAINT [FK_Delivery_Warehouse_WarehouseId] FOREIGN KEY ([WarehouseId]) REFERENCES [dbo].[Warehouse] ([Id]) ON DELETE CASCADE\r\n",
                ");\r\n",
                "\r\n",
                "GO\r\n",
                "CREATE NONCLUSTERED INDEX [IX_Delivery_WarehouseId]\r\n",
                "    ON [dbo].[Delivery]([WarehouseId] ASC);\r\n",
                "\r\n",
                "GO\r\n",
                "CREATE NONCLUSTERED INDEX [IX_Delivery_PharmacyId]\r\n",
                "    ON [dbo].[Delivery]([PharmacyId] ASC);\r\n",
                ""
            ],
            "metadata": {
                "azdata_cell_guid": "a44dbaf7-4115-4d5d-9b31-7f73c4d9953b",
                "language": "sql"
            },
            "outputs": [],
            "execution_count": null
        },
        {
            "cell_type": "code",
            "source": [
                "CREATE TABLE [dbo].[PharmacyPharmacist] (\r\n",
                "    [PharmacistId]         INT NOT NULL,\r\n",
                "    [PharmacyId]           INT NOT NULL,\r\n",
                "    [PharmacyPharmacistId] INT IDENTITY (1, 1) NOT NULL,\r\n",
                "    CONSTRAINT [PK_PharmacyPharmacist] PRIMARY KEY CLUSTERED ([PharmacistId] ASC, [PharmacyId] ASC),\r\n",
                "    CONSTRAINT [FK_PharmacyPharmacist_Pharmacist_PharmacistId] FOREIGN KEY ([PharmacistId]) REFERENCES [dbo].[Pharmacist] ([Id]) ON DELETE CASCADE,\r\n",
                "    CONSTRAINT [FK_PharmacyPharmacist_Pharmacy_PharmacyId] FOREIGN KEY ([PharmacyId]) REFERENCES [dbo].[Pharmacy] ([Id]) ON DELETE CASCADE\r\n",
                ");\r\n",
                "\r\n",
                "GO\r\n",
                "CREATE NONCLUSTERED INDEX [IX_PharmacyPharmacist_PharmacyId]\r\n",
                "    ON [dbo].[PharmacyPharmacist]([PharmacyId] ASC);"
            ],
            "metadata": {
                "azdata_cell_guid": "648741b7-f127-46f9-a861-942a99f678c2",
                "language": "sql",
                "tags": []
            },
            "outputs": [],
            "execution_count": null
        }
    ]
}